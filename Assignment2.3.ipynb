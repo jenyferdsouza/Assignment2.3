{
 "cells": [
  {
   "cell_type": "code",
   "execution_count": 1,
   "metadata": {
    "collapsed": true
   },
   "outputs": [],
   "source": [
    "#Implement a function longestWord() that takes a list of words and returns the longest one."
   ]
  },
  {
   "cell_type": "code",
   "execution_count": 12,
   "metadata": {},
   "outputs": [
    {
     "name": "stdout",
     "output_type": "stream",
     "text": [
      "The longest word is: 'This is a sunny day'\n"
     ]
    }
   ],
   "source": [
    "wordlist=['Have a great day','it is a lovely day','Today is Friday','This is a sunny day']\n",
    "\n",
    "def longestWord(wordlist):\n",
    "    maxlen=0\n",
    "    maxword=''\n",
    "\n",
    "    for word in wordlist:\n",
    "\n",
    "        if (len(word)>maxlen):\n",
    "            maxlen=len(word)\n",
    "            maxword=word\n",
    "    return maxword\n",
    "\n",
    "print(\"The longest word is: '\"+ longestWord(wordlist) +\"'\")        "
   ]
  }
 ],
 "metadata": {
  "kernelspec": {
   "display_name": "Python 3",
   "language": "python",
   "name": "python3"
  },
  "language_info": {
   "codemirror_mode": {
    "name": "ipython",
    "version": 3
   },
   "file_extension": ".py",
   "mimetype": "text/x-python",
   "name": "python",
   "nbconvert_exporter": "python",
   "pygments_lexer": "ipython3",
   "version": "3.6.3"
  }
 },
 "nbformat": 4,
 "nbformat_minor": 2
}
